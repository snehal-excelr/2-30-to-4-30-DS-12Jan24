{
  "nbformat": 4,
  "nbformat_minor": 0,
  "metadata": {
    "kernelspec": {
      "display_name": "Python 3",
      "language": "python",
      "name": "python3"
    },
    "language_info": {
      "codemirror_mode": {
        "name": "ipython",
        "version": 3
      },
      "file_extension": ".py",
      "mimetype": "text/x-python",
      "name": "python",
      "nbconvert_exporter": "python",
      "pygments_lexer": "ipython3",
      "version": "3.7.4"
    },
    "colab": {
      "provenance": []
    }
  },
  "cells": [
    {
      "cell_type": "code",
      "metadata": {
        "id": "kmZL6Q5wt8ai"
      },
      "source": [
        "\n",
        "# Bagged Decision Trees for Classification\n",
        "from pandas import read_csv\n",
        "from sklearn.model_selection import KFold\n",
        "from sklearn.model_selection import cross_val_score\n",
        "from sklearn.ensemble import BaggingClassifier\n",
        "from sklearn.tree import DecisionTreeClassifier\n",
        "\n",
        "filename = '/content/pima-indians-diabetes.data.csv'\n",
        "names = ['preg', 'plas', 'pres', 'skin', 'test', 'mass', 'pedi', 'age', 'class']\n",
        "dataframe = read_csv(filename, names=names)\n",
        "array = dataframe.values\n",
        "X = array[:,0:8]\n",
        "Y = array[:,8]\n",
        "seed = 7\n",
        "kfold = KFold(n_splits=10,random_state=seed,shuffle=True) # evaluation method\n",
        "# https://scikit-learn.org/stable/modules/generated/sklearn.model_selection.KFold.html\n",
        "cart = DecisionTreeClassifier()\n",
        "num_trees = 100\n",
        "\n",
        "model = BaggingClassifier(estimator=cart, n_estimators=num_trees, random_state=seed) #Classifier\n",
        "results = cross_val_score(model, X, Y, cv=kfold)"
      ],
      "execution_count": 1,
      "outputs": []
    },
    {
      "cell_type": "code",
      "metadata": {
        "id": "_aIO9VQp3CI_",
        "colab": {
          "base_uri": "https://localhost:8080/"
        },
        "outputId": "6a64cde5-62a6-4b86-f4f2-be0e258d4de0"
      },
      "source": [
        "results"
      ],
      "execution_count": 2,
      "outputs": [
        {
          "output_type": "execute_result",
          "data": {
            "text/plain": [
              "array([0.76623377, 0.75324675, 0.74025974, 0.77922078, 0.80519481,\n",
              "       0.79220779, 0.66233766, 0.75324675, 0.78947368, 0.73684211])"
            ]
          },
          "metadata": {},
          "execution_count": 2
        }
      ]
    },
    {
      "cell_type": "code",
      "source": [
        "print(results.mean())"
      ],
      "metadata": {
        "colab": {
          "base_uri": "https://localhost:8080/"
        },
        "id": "-6k6xJWXfJxV",
        "outputId": "6ffeb4ea-7db0-4aee-a6c7-1551e4be8545"
      },
      "execution_count": 3,
      "outputs": [
        {
          "output_type": "stream",
          "name": "stdout",
          "text": [
            "0.7578263841421736\n"
          ]
        }
      ]
    },
    {
      "cell_type": "code",
      "metadata": {
        "id": "cr6QYDf2t8ak"
      },
      "source": [
        "# Random Forest Classification\n",
        "from pandas import read_csv\n",
        "from sklearn.model_selection import KFold\n",
        "from sklearn.model_selection import cross_val_score\n",
        "from sklearn.ensemble import RandomForestClassifier\n",
        "\n",
        "array=dataframe.values\n",
        "X = array[:,0:8]\n",
        "Y = array[:,8]\n",
        "\n",
        "num_trees = 100\n",
        "max_features = 3 #Total features m=8, K=3 i.e. randomly select 3 features\n",
        "kfold = KFold(n_splits=10)\n",
        "\n",
        "model = RandomForestClassifier(n_estimators=num_trees, max_features=max_features)\n",
        "results = cross_val_score(model, X, Y, cv=kfold)"
      ],
      "execution_count": 4,
      "outputs": []
    },
    {
      "cell_type": "code",
      "source": [
        "results"
      ],
      "metadata": {
        "id": "un9gF8JVf-Bd",
        "colab": {
          "base_uri": "https://localhost:8080/"
        },
        "outputId": "10833c77-9a82-4c1f-9414-dbcc04b12fe9"
      },
      "execution_count": 5,
      "outputs": [
        {
          "output_type": "execute_result",
          "data": {
            "text/plain": [
              "array([0.72727273, 0.84415584, 0.71428571, 0.66233766, 0.80519481,\n",
              "       0.81818182, 0.83116883, 0.83116883, 0.71052632, 0.78947368])"
            ]
          },
          "metadata": {},
          "execution_count": 5
        }
      ]
    },
    {
      "cell_type": "code",
      "source": [
        "print(results.mean())"
      ],
      "metadata": {
        "id": "uTTe3PZkgAC_",
        "colab": {
          "base_uri": "https://localhost:8080/"
        },
        "outputId": "249d86a6-218a-43d1-fbac-fb733e442ee1"
      },
      "execution_count": 6,
      "outputs": [
        {
          "output_type": "stream",
          "name": "stdout",
          "text": [
            "0.7733766233766234\n"
          ]
        }
      ]
    },
    {
      "cell_type": "code",
      "metadata": {
        "id": "3T6_k9Out8am"
      },
      "source": [
        "# AdaBoost Classification\n",
        "from pandas import read_csv\n",
        "from sklearn.model_selection import KFold\n",
        "from sklearn.model_selection import cross_val_score\n",
        "from sklearn.ensemble import AdaBoostClassifier\n",
        "filename = '/content/pima-indians-diabetes.data.csv'\n",
        "names = ['preg', 'plas', 'pres', 'skin', 'test', 'mass', 'pedi', 'age', 'class']\n",
        "dataframe = read_csv(filename, names=names)\n",
        "array = dataframe.values\n",
        "X = array[:,0:8]\n",
        "Y = array[:,8]\n",
        "num_trees = 10 # try 20,30\n",
        "seed=7\n",
        "kfold = KFold(n_splits=10, random_state=seed,shuffle=True)\n",
        "model = AdaBoostClassifier(n_estimators=num_trees, random_state=seed)\n",
        "results = cross_val_score(model, X, Y, cv=kfold)"
      ],
      "execution_count": 20,
      "outputs": []
    },
    {
      "cell_type": "code",
      "source": [
        "results"
      ],
      "metadata": {
        "id": "8yxsor_egV3n",
        "colab": {
          "base_uri": "https://localhost:8080/"
        },
        "outputId": "02c88412-05f2-49a1-c99b-416dca0dfaa1"
      },
      "execution_count": 21,
      "outputs": [
        {
          "output_type": "execute_result",
          "data": {
            "text/plain": [
              "array([0.80519481, 0.74025974, 0.67532468, 0.81818182, 0.80519481,\n",
              "       0.79220779, 0.71428571, 0.75324675, 0.78947368, 0.77631579])"
            ]
          },
          "metadata": {},
          "execution_count": 21
        }
      ]
    },
    {
      "cell_type": "code",
      "source": [
        "print(results.mean())"
      ],
      "metadata": {
        "id": "cNK_gV61gV-S",
        "colab": {
          "base_uri": "https://localhost:8080/"
        },
        "outputId": "a3aeac48-3f99-443d-d654-e632996342e3"
      },
      "execution_count": 22,
      "outputs": [
        {
          "output_type": "stream",
          "name": "stdout",
          "text": [
            "0.7669685577580314\n"
          ]
        }
      ]
    },
    {
      "cell_type": "code",
      "metadata": {
        "id": "k1Ifbp_pt8am"
      },
      "source": [
        "# Stacking Ensemble for Classification\n",
        "from pandas import read_csv\n",
        "from sklearn.model_selection import KFold\n",
        "from sklearn.model_selection import cross_val_score\n",
        "from sklearn.linear_model import LogisticRegression\n",
        "from sklearn.tree import DecisionTreeClassifier\n",
        "from sklearn.svm import SVC # Support Vector Classifier\n",
        "from sklearn.ensemble import VotingClassifier\n",
        "\n",
        "filename = '/content/pima-indians-diabetes.data.csv'\n",
        "names = ['preg', 'plas', 'pres', 'skin', 'test', 'mass', 'pedi', 'age', 'class']\n",
        "dataframe = read_csv(filename, names=names)\n",
        "array = dataframe.values\n",
        "X = array[:,0:8]\n",
        "Y = array[:,8]\n",
        "kfold = KFold(n_splits=10)\n",
        "\n",
        "# create the sub models\n",
        "estimators = [] # create empty list for different algorithms\n",
        "\n",
        "model1 = LogisticRegression(max_iter=500)\n",
        "estimators.append(('logistic', model1))\n",
        "\n",
        "model2 = DecisionTreeClassifier()\n",
        "estimators.append(('cart', model2))\n",
        "\n",
        "model3 = SVC()\n",
        "estimators.append(('svc', model3))\n",
        "\n",
        "# create the ensemble model\n",
        "ensemble = VotingClassifier(estimators)\n",
        "results = cross_val_score(ensemble, X, Y, cv=kfold)"
      ],
      "execution_count": 23,
      "outputs": []
    },
    {
      "cell_type": "code",
      "source": [
        "estimators"
      ],
      "metadata": {
        "id": "_vgXMHGo0jwJ",
        "colab": {
          "base_uri": "https://localhost:8080/"
        },
        "outputId": "49aa7630-4747-4d5b-9aec-04a50064cdf1"
      },
      "execution_count": 24,
      "outputs": [
        {
          "output_type": "execute_result",
          "data": {
            "text/plain": [
              "[('logistic', LogisticRegression(max_iter=500)),\n",
              " ('cart', DecisionTreeClassifier()),\n",
              " ('svc', SVC())]"
            ]
          },
          "metadata": {},
          "execution_count": 24
        }
      ]
    },
    {
      "cell_type": "code",
      "source": [
        "results"
      ],
      "metadata": {
        "id": "YQ9ifIKnhR3n",
        "colab": {
          "base_uri": "https://localhost:8080/"
        },
        "outputId": "239967de-c581-47a5-9979-dd2a813e90b2"
      },
      "execution_count": 25,
      "outputs": [
        {
          "output_type": "execute_result",
          "data": {
            "text/plain": [
              "array([0.63636364, 0.79220779, 0.72727273, 0.64935065, 0.77922078,\n",
              "       0.80519481, 0.84415584, 0.85714286, 0.76315789, 0.77631579])"
            ]
          },
          "metadata": {},
          "execution_count": 25
        }
      ]
    },
    {
      "cell_type": "code",
      "source": [
        "print(results.mean())"
      ],
      "metadata": {
        "id": "aenDOUC0hR_Z",
        "colab": {
          "base_uri": "https://localhost:8080/"
        },
        "outputId": "4dee852f-d8ca-4541-e29e-4f620b894647"
      },
      "execution_count": 26,
      "outputs": [
        {
          "output_type": "stream",
          "name": "stdout",
          "text": [
            "0.7630382775119617\n"
          ]
        }
      ]
    },
    {
      "cell_type": "markdown",
      "source": [
        "# **Additional Code: \"random_state = any int\"**"
      ],
      "metadata": {
        "id": "JiGk0tGEgMVy"
      }
    },
    {
      "cell_type": "code",
      "source": [
        "from sklearn.model_selection import train_test_split\n",
        "import numpy as np\n",
        "\n",
        "# Generate data for the example (values from 0 to 10)\n",
        "data = np.arange(10)\n",
        "\n",
        "# Split the data into training and testing sets\n",
        "X_train, X_test, y_train, y_test = train_test_split(data,data, test_size=0.3, random_state=48)\n",
        "\n",
        "# Display the training and testing sets\n",
        "print(\"Training set X:\", X_train)\n",
        "print(\"Testing set X:\", X_test)\n",
        "print(\"Training labels y:\", y_train)\n",
        "print(\"Testing labels y:\", y_test)\n",
        "\n",
        "'''\n",
        "First time Output:\n",
        "Training set X: [0 7 2 9 4 3 6]\n",
        "Testing set X: [8 1 5]\n",
        "Training labels y: [0 7 2 9 4 3 6]\n",
        "Testing labels y: [8 1 5]\n",
        "\n",
        "Second time Output\n",
        "Same as above\n",
        "\n",
        "TRY TO CHANGE random_state = ANY OTHER INTEGER\n",
        "'''"
      ],
      "metadata": {
        "colab": {
          "base_uri": "https://localhost:8080/",
          "height": 122
        },
        "id": "x8EiQtUWe-jj",
        "outputId": "c1065ceb-6444-4c8b-9f49-4acd154b2fda"
      },
      "execution_count": 36,
      "outputs": [
        {
          "output_type": "stream",
          "name": "stdout",
          "text": [
            "Training set X: [6 9 8 4 1 3 0]\n",
            "Testing set X: [7 5 2]\n",
            "Training labels y: [6 9 8 4 1 3 0]\n",
            "Testing labels y: [7 5 2]\n"
          ]
        },
        {
          "output_type": "execute_result",
          "data": {
            "text/plain": [
              "'\\nFirst time Output:\\nTraining set X: [0 7 2 9 4 3 6]\\nTesting set X: [8 1 5]\\nTraining labels y: [0 7 2 9 4 3 6]\\nTesting labels y: [8 1 5]\\n\\nSecond time Output\\nSame as above\\n\\nTRY TO CHANGE random_state = ANY OTHER INTEGER\\n'"
            ],
            "application/vnd.google.colaboratory.intrinsic+json": {
              "type": "string"
            }
          },
          "metadata": {},
          "execution_count": 36
        }
      ]
    },
    {
      "cell_type": "markdown",
      "source": [
        "# **If random_state is not passed as an argument**"
      ],
      "metadata": {
        "id": "6KyS9b0KgelC"
      }
    },
    {
      "cell_type": "code",
      "source": [
        "from sklearn.model_selection import train_test_split\n",
        "import numpy as np\n",
        "\n",
        "# Generate data for the example (values from 0 to 99)\n",
        "data = np.arange(10)\n",
        "\n",
        "# Split the data into training and testing sets\n",
        "X_train, X_test, y_train, y_test = train_test_split(data, data, test_size=0.3)\n",
        "\n",
        "# Display the training and testing sets\n",
        "print(\"Training set X:\", X_train)\n",
        "print(\"Testing set X:\", X_test)\n",
        "print(\"Training labels y:\", y_train)\n",
        "print(\"Testing labels y:\", y_test)\n",
        "\n",
        "'''\n",
        "First time Output\n",
        "Training set X: [4 3 7 9 1 6 8]\n",
        "Testing set X: [0 2 5]\n",
        "Training labels y: [4 3 7 9 1 6 8]\n",
        "Testing labels y: [0 2 5]\n",
        "\n",
        "Second time Output\n",
        "Training set X: [6 8 2 3 7 1 9]\n",
        "Testing set X: [5 0 4]\n",
        "Training labels y: [6 8 2 3 7 1 9]\n",
        "Testing labels y: [5 0 4]\n",
        "'''"
      ],
      "metadata": {
        "colab": {
          "base_uri": "https://localhost:8080/",
          "height": 139
        },
        "id": "GG3aqBtnfirE",
        "outputId": "485a0fe6-9660-46be-8cba-ffd36ae1c7fd"
      },
      "execution_count": 32,
      "outputs": [
        {
          "output_type": "stream",
          "name": "stdout",
          "text": [
            "Training set X: [0 8 4 9 1 6 2]\n",
            "Testing set X: [3 5 7]\n",
            "Training labels y: [0 8 4 9 1 6 2]\n",
            "Testing labels y: [3 5 7]\n"
          ]
        },
        {
          "output_type": "execute_result",
          "data": {
            "text/plain": [
              "'\\nFirst time Output\\nTraining set X: [4 3 7 9 1 6 8]\\nTesting set X: [0 2 5]\\nTraining labels y: [4 3 7 9 1 6 8]\\nTesting labels y: [0 2 5]\\n\\nSecond time Output\\nTraining set X: [6 8 2 3 7 1 9]\\nTesting set X: [5 0 4]\\nTraining labels y: [6 8 2 3 7 1 9]\\nTesting labels y: [5 0 4]\\n'"
            ],
            "application/vnd.google.colaboratory.intrinsic+json": {
              "type": "string"
            }
          },
          "metadata": {},
          "execution_count": 32
        }
      ]
    }
  ]
}